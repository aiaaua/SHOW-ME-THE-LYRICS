{
 "cells": [
  {
   "cell_type": "code",
   "execution_count": 1,
   "metadata": {
    "colab": {
     "base_uri": "https://localhost:8080/",
     "height": 124
    },
    "colab_type": "code",
    "executionInfo": {
     "elapsed": 38423,
     "status": "ok",
     "timestamp": 1582614858017,
     "user": {
      "displayName": "aia aua",
      "photoUrl": "",
      "userId": "05693809702444312126"
     },
     "user_tz": -540
    },
    "id": "mnXkEn2AnZtr",
    "outputId": "f628d392-e428-4c56-e622-8bbe0fa26069"
   },
   "outputs": [
    {
     "name": "stdout",
     "output_type": "stream",
     "text": [
      "Go to this URL in a browser: https://accounts.google.com/o/oauth2/auth?client_id=947318989803-6bn6qk8qdgf4n4g3pfee6491hc0brc4i.apps.googleusercontent.com&redirect_uri=urn%3aietf%3awg%3aoauth%3a2.0%3aoob&response_type=code&scope=email%20https%3a%2f%2fwww.googleapis.com%2fauth%2fdocs.test%20https%3a%2f%2fwww.googleapis.com%2fauth%2fdrive%20https%3a%2f%2fwww.googleapis.com%2fauth%2fdrive.photos.readonly%20https%3a%2f%2fwww.googleapis.com%2fauth%2fpeopleapi.readonly\n",
      "\n",
      "Enter your authorization code:\n",
      "··········\n",
      "Mounted at /content/gdrive\n"
     ]
    }
   ],
   "source": [
    "# Google Drive 연동\n",
    "\n",
    "from google.colab import drive\n",
    "drive.mount('/content/gdrive')"
   ]
  },
  {
   "cell_type": "code",
   "execution_count": 1,
   "metadata": {
    "colab": {
     "base_uri": "https://localhost:8080/",
     "height": 54
    },
    "colab_type": "code",
    "executionInfo": {
     "elapsed": 1120,
     "status": "ok",
     "timestamp": 1582614886785,
     "user": {
      "displayName": "aia aua",
      "photoUrl": "",
      "userId": "05693809702444312126"
     },
     "user_tz": -540
    },
    "id": "Sgis4HU0nzgP",
    "outputId": "2dfb2627-e225-47ee-f53b-480cce8ffdfb"
   },
   "outputs": [
    {
     "name": "stdout",
     "output_type": "stream",
     "text": [
      "['singdata1401.csv', 'singdata1451.csv', 'singdata1501.csv', 'singdata1551.csv', 'singdata1601.csv', 'singdata1651.csv', 'singdata1701.csv', 'singdata1751.csv', 'singdata1801.csv', 'singdata1851.csv', 'singdata1901.csv', 'singdata1951.csv', 'singdata2001.csv', 'singdata2051.csv', 'singdata2101.csv', 'singdata2151.csv', 'singdata2201.csv', 'singdata2251.csv', 'singdata2301.csv', 'singdata2351.csv', 'singdata2401.csv', 'singdata2451.csv', 'singdata2501.csv', 'singdata2551.csv', 'singdata2601.csv', 'singdata2651.csv', 'singdata2701.csv', 'singdata2751.csv', 'singdata2801.csv', 'singdata2851.csv', 'singdata2901.csv', 'singdata2951.csv', 'singdata3001.csv']\n"
     ]
    }
   ],
   "source": [
    "# 라이브러리 임포트\n",
    "import os \n",
    "import re\n",
    "import pandas as pd\n",
    "import numpy as np\n",
    "\n",
    "root_dir = 'C:\\\\Users\\\\didwn\\\\Desktop\\\\Jupyter Notebook\\\\NLP\\\\data\\\\'\n",
    "csv_list = os.listdir(root_dir)\n",
    "print(csv_list)"
   ]
  },
  {
   "cell_type": "code",
   "execution_count": 4,
   "metadata": {
    "colab": {
     "base_uri": "https://localhost:8080/",
     "height": 54
    },
    "colab_type": "code",
    "executionInfo": {
     "elapsed": 1543,
     "status": "ok",
     "timestamp": 1582614942962,
     "user": {
      "displayName": "aia aua",
      "photoUrl": "",
      "userId": "05693809702444312126"
     },
     "user_tz": -540
    },
    "id": "CkhvIB1fcfU6",
    "outputId": "36f31473-beaa-4f98-bc40-b1060c848e83"
   },
   "outputs": [
    {
     "name": "stdout",
     "output_type": "stream",
     "text": [
      "['singdata1401.csv', 'singdata1451.csv', 'singdata1501.csv', 'singdata1551.csv', 'singdata1601.csv', 'singdata1651.csv', 'singdata1701.csv', 'singdata1751.csv', 'singdata1801.csv', 'singdata1851.csv', 'singdata1901.csv', 'singdata1951.csv', 'singdata2001.csv', 'singdata2051.csv', 'singdata2101.csv', 'singdata2151.csv', 'singdata2201.csv', 'singdata2251.csv', 'singdata2301.csv', 'singdata2351.csv']\n"
     ]
    }
   ],
   "source": [
    "number = sorted([int(i[8:-4]) for i in csv_list])\n",
    "csv_list = ['singdata' + str(i) + '.csv' for i in number]\n",
    "print(csv_list)"
   ]
  },
  {
   "cell_type": "code",
   "execution_count": 3,
   "metadata": {
    "colab": {
     "base_uri": "https://localhost:8080/",
     "height": 367
    },
    "colab_type": "code",
    "executionInfo": {
     "elapsed": 2732,
     "status": "ok",
     "timestamp": 1582615802481,
     "user": {
      "displayName": "aia aua",
      "photoUrl": "",
      "userId": "05693809702444312126"
     },
     "user_tz": -540
    },
    "id": "eZeoHn3S-WuG",
    "outputId": "b7dcd459-2086-4a7e-c6d1-4311e51d5dec"
   },
   "outputs": [
    {
     "name": "stdout",
     "output_type": "stream",
     "text": [
      "1.singdata1401.csvis porcessed\n",
      "2.singdata1451.csvis porcessed\n",
      "3.singdata1501.csvis porcessed\n",
      "4.singdata1551.csvis porcessed\n",
      "5.singdata1601.csvis porcessed\n",
      "6.singdata1651.csvis porcessed\n",
      "7.singdata1701.csvis porcessed\n",
      "8.singdata1751.csvis porcessed\n",
      "9.singdata1801.csvis porcessed\n",
      "10.singdata1851.csvis porcessed\n",
      "11.singdata1901.csvis porcessed\n",
      "12.singdata1951.csvis porcessed\n",
      "13.singdata2001.csvis porcessed\n",
      "14.singdata2051.csvis porcessed\n",
      "15.singdata2101.csvis porcessed\n",
      "16.singdata2151.csvis porcessed\n",
      "17.singdata2201.csvis porcessed\n",
      "18.singdata2251.csvis porcessed\n",
      "19.singdata2301.csvis porcessed\n",
      "20.singdata2351.csvis porcessed\n",
      "21.singdata2401.csvis porcessed\n",
      "22.singdata2451.csvis porcessed\n",
      "23.singdata2501.csvis porcessed\n",
      "24.singdata2551.csvis porcessed\n",
      "25.singdata2601.csvis porcessed\n",
      "26.singdata2651.csvis porcessed\n",
      "27.singdata2701.csvis porcessed\n",
      "28.singdata2751.csvis porcessed\n",
      "29.singdata2801.csvis porcessed\n",
      "30.singdata2851.csvis porcessed\n",
      "31.singdata2901.csvis porcessed\n",
      "32.singdata2951.csvis porcessed\n",
      "33.singdata3001.csvis porcessed\n"
     ]
    }
   ],
   "source": [
    "# 데이터 전처리 및 저장\n",
    "cnt = 0\n",
    "for csv_name in csv_list :\n",
    "    cnt += 1\n",
    "    print(str(cnt) + '.' + csv_name + 'is porcessed')\n",
    "\n",
    "    df = pd.read_csv(root_dir + csv_name, names = ['ranking', 'title', 'artist', 'album', 'likes', 'date', 'lyrics'])\n",
    "\n",
    "    for i in range(df.shape[0]) :\n",
    "        df.loc[i, 'artist'] = df.loc[i, 'artist'][:int(len(df.loc[i, 'artist'])/2)]\n",
    "        df.loc[i, 'date'] = df.loc[i, 'date'][4:-5]\n",
    "\n",
    "    if csv_name == csv_list[0] : df.to_csv(root_dir + \"data.csv\", index = False)\n",
    "    else : df.to_csv(root_dir + \"data.csv\", mode = 'a', header = False, index = False)"
   ]
  },
  {
   "cell_type": "code",
   "execution_count": 4,
   "metadata": {
    "colab": {
     "base_uri": "https://localhost:8080/",
     "height": 272
    },
    "colab_type": "code",
    "executionInfo": {
     "elapsed": 1105,
     "status": "ok",
     "timestamp": 1582615809701,
     "user": {
      "displayName": "aia aua",
      "photoUrl": "",
      "userId": "05693809702444312126"
     },
     "user_tz": -540
    },
    "id": "eTMgZjrB_eib",
    "outputId": "d76fe190-55b8-4fac-fe9a-e919f422094f"
   },
   "outputs": [
    {
     "data": {
      "text/html": [
       "<div>\n",
       "<style scoped>\n",
       "    .dataframe tbody tr th:only-of-type {\n",
       "        vertical-align: middle;\n",
       "    }\n",
       "\n",
       "    .dataframe tbody tr th {\n",
       "        vertical-align: top;\n",
       "    }\n",
       "\n",
       "    .dataframe thead th {\n",
       "        text-align: right;\n",
       "    }\n",
       "</style>\n",
       "<table border=\"1\" class=\"dataframe\">\n",
       "  <thead>\n",
       "    <tr style=\"text-align: right;\">\n",
       "      <th></th>\n",
       "      <th>ranking</th>\n",
       "      <th>title</th>\n",
       "      <th>artist</th>\n",
       "      <th>album</th>\n",
       "      <th>likes</th>\n",
       "      <th>date</th>\n",
       "      <th>lyrics</th>\n",
       "    </tr>\n",
       "  </thead>\n",
       "  <tbody>\n",
       "    <tr>\n",
       "      <td>0</td>\n",
       "      <td>1401</td>\n",
       "      <td>Deceased</td>\n",
       "      <td>Xen the boro</td>\n",
       "      <td>Deceased</td>\n",
       "      <td>38</td>\n",
       "      <td>2019.09.20</td>\n",
       "      <td>When I was 5&lt;br/&gt;몇 밤 자면 집에 온다고&lt;br/&gt;When I was ...</td>\n",
       "    </tr>\n",
       "    <tr>\n",
       "      <td>1</td>\n",
       "      <td>1402</td>\n",
       "      <td>호캉스</td>\n",
       "      <td>Keizi (케이지), YoungKIP</td>\n",
       "      <td>호캉스</td>\n",
       "      <td>28</td>\n",
       "      <td>2019.09.20</td>\n",
       "      <td>요즘 여자들 더운건 참 질색해&lt;br/&gt;오늘 날씨를 피해 화장을 덧칠해&lt;br/&gt;같이 ...</td>\n",
       "    </tr>\n",
       "    <tr>\n",
       "      <td>2</td>\n",
       "      <td>1403</td>\n",
       "      <td>Look at me (Prod.KepF)</td>\n",
       "      <td>KepF (권성수)</td>\n",
       "      <td>Look at me</td>\n",
       "      <td>2</td>\n",
       "      <td>2019.09.20</td>\n",
       "      <td>Oh yeah&lt;br/&gt;Look at me&lt;br/&gt;shawty&lt;br/&gt;나를 더 지켜봐...</td>\n",
       "    </tr>\n",
       "    <tr>\n",
       "      <td>3</td>\n",
       "      <td>1404</td>\n",
       "      <td>Visualize</td>\n",
       "      <td>사마-디 (Sama-D)</td>\n",
       "      <td>Visualize</td>\n",
       "      <td>16</td>\n",
       "      <td>2019.09.19</td>\n",
       "      <td>밑 그림 그저 손이 가는대로 긋지 &lt;br/&gt;내가 선택한 색깔로 칠칠 &lt;br/&gt;그런 ...</td>\n",
       "    </tr>\n",
       "    <tr>\n",
       "      <td>4</td>\n",
       "      <td>1405</td>\n",
       "      <td>OIIO (Feat. D2ear)</td>\n",
       "      <td>뮤진 (MUZIN)</td>\n",
       "      <td>OIIO</td>\n",
       "      <td>143</td>\n",
       "      <td>2019.09.19</td>\n",
       "      <td>어두운 이 공간에&lt;br/&gt;환하게 밝혀주는 &lt;br/&gt;나의 camera shoot&lt;br...</td>\n",
       "    </tr>\n",
       "  </tbody>\n",
       "</table>\n",
       "</div>"
      ],
      "text/plain": [
       "   ranking                   title                 artist       album likes  \\\n",
       "0     1401                Deceased           Xen the boro    Deceased    38   \n",
       "1     1402                     호캉스  Keizi (케이지), YoungKIP         호캉스    28   \n",
       "2     1403  Look at me (Prod.KepF)             KepF (권성수)  Look at me     2   \n",
       "3     1404               Visualize          사마-디 (Sama-D)   Visualize    16   \n",
       "4     1405      OIIO (Feat. D2ear)             뮤진 (MUZIN)        OIIO   143   \n",
       "\n",
       "         date                                             lyrics  \n",
       "0  2019.09.20  When I was 5<br/>몇 밤 자면 집에 온다고<br/>When I was ...  \n",
       "1  2019.09.20  요즘 여자들 더운건 참 질색해<br/>오늘 날씨를 피해 화장을 덧칠해<br/>같이 ...  \n",
       "2  2019.09.20  Oh yeah<br/>Look at me<br/>shawty<br/>나를 더 지켜봐...  \n",
       "3  2019.09.19  밑 그림 그저 손이 가는대로 긋지 <br/>내가 선택한 색깔로 칠칠 <br/>그런 ...  \n",
       "4  2019.09.19  어두운 이 공간에<br/>환하게 밝혀주는 <br/>나의 camera shoot<br...  "
      ]
     },
     "execution_count": 4,
     "metadata": {},
     "output_type": "execute_result"
    }
   ],
   "source": [
    "#pd.set_option('display.max_row', None) \n",
    "df = pd.read_csv(root_dir + 'data.csv')\n",
    "df.head()"
   ]
  }
 ],
 "metadata": {
  "accelerator": "GPU",
  "colab": {
   "authorship_tag": "ABX9TyM+dfNXGiRh6LUxo1J4nY85",
   "collapsed_sections": [],
   "name": "preprocessing.ipynb",
   "provenance": []
  },
  "kernelspec": {
   "display_name": "Python 3",
   "language": "python",
   "name": "python3"
  },
  "language_info": {
   "codemirror_mode": {
    "name": "ipython",
    "version": 3
   },
   "file_extension": ".py",
   "mimetype": "text/x-python",
   "name": "python",
   "nbconvert_exporter": "python",
   "pygments_lexer": "ipython3",
   "version": "3.7.4"
  }
 },
 "nbformat": 4,
 "nbformat_minor": 1
}
